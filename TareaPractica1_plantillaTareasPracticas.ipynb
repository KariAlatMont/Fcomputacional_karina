{
  "cells": [
    {
      "cell_type": "markdown",
      "metadata": {
        "id": "kNP3bR7sgDxi"
      },
      "source": [
        "<h1 align=\"center\">Física Computacional.</h1>\n",
        "<h1 align=\"center\">Semestre 2015-2</h1>\n",
        "\n",
        "<h2> Karina Lizbeth Alatriste Montoya</h2>\n",
        "\n",
        "---\n",
        "##Sergio A. Alcalá Corona##\n",
        "### Rodrigo Vega Vilchis\n",
        "### Daniel Rojo Mata\n",
        "---"
      ]
    },
    {
      "cell_type": "markdown",
      "metadata": {
        "id": "atOP0AoIgDxl"
      },
      "source": [
        "<h1 align=\"center\">Programación para la física computacional</h1>\n",
        "\n",
        "## Práctica 1.  Programación básica\n",
        "\n",
        "\n",
        "### Programación básica para la física\n",
        "\n",
        "---"
      ]
    },
    {
      "cell_type": "markdown",
      "metadata": {
        "id": "Iz8VLmuCgDxm"
      },
      "source": [
        "### **EJERCICIOS**:\n",
        "\n",
        "$\\;$\n",
        "\n",
        "#### **1. Altitud de un satélite**: se va a lanzar un satélite en una órbita circular alrededor de la Tierra de modo que orbite el planeta una vez cada $T$ segundos."
      ]
    },
    {
      "cell_type": "markdown",
      "metadata": {
        "id": "NCQeXlJXgDxn"
      },
      "source": [
        "#### **(a)** Demuestre que la altitud $h$ sobre la superficie de la Tierra que debe tener el satélite es:\n",
        "\n",
        "<h3 align=\"center\">$h = \\biggl( {GMT^2\\over4\\pi^2} \\biggr)^{1/3} - R$,</h3>\n",
        "\n",
        "donde $G = 6,67 × 10^{−11} m^3 kg^{−1}s^{−2}$ es la constante gravitatoria de Newton, $M = 5,97 ×\n",
        "1024 kg$ es la masa de la Tierra, y $R = 6371 km$ es su radio.\n",
        "\n",
        "\n"
      ]
    },
    {
      "cell_type": "code",
      "execution_count": null,
      "metadata": {
        "id": "L1-R-ZgygDxn"
      },
      "outputs": [],
      "source": [
        "#Esta demostración está en el pdf."
      ]
    },
    {
      "cell_type": "markdown",
      "metadata": {
        "id": "FW550tVBgDxo"
      },
      "source": [
        "#### **(b)** Escribe un programa que le pida al usuario que ingrese el valor deseado de $T$ y luego calcule e imprima la altura correcta en metros.\n"
      ]
    },
    {
      "cell_type": "code",
      "execution_count": null,
      "metadata": {
        "id": "v0Om5v0qgDxp"
      },
      "outputs": [],
      "source": [
        "from math import sqrt #Importamos la función raíz cuadrada desde math para poder usarla sólo como sqrt\n",
        "from math import pi #Importa  pi\n",
        "G = 6.67e-11 #m/s**2\n",
        "M = 5.97e24 #Kg\n",
        "R = 6371000#m\n",
        "def altitud_metros(T): #Definimos la función Altitud_metros donde T es el tiempo, el cual es un parámetro de la función que dará el usuario\n",
        "      K = ((((G * M * T**2) / (4 * (pi**2)))**(1/3)) - R ) #K es la ecuación  que da el resultado de la altitud en metros\n",
        "      return K"
      ]
    },
    {
      "cell_type": "code",
      "execution_count": null,
      "metadata": {
        "id": "lORAaSnSgDxp"
      },
      "outputs": [],
      "source": [
        "print(altitud_metros(float(input(\"Ingresa el valor que deseas para  el período de la órbita del satélite T en segundos: \"))))"
      ]
    },
    {
      "cell_type": "code",
      "execution_count": null,
      "metadata": {
        "id": "kQpRpNN7gDxq"
      },
      "outputs": [],
      "source": [
        "T= float(input(\"Ingresa el valor que deseas para  el período de la órbita del satélite T en segundos: \"))\n",
        "altitud = altitud_metros(T)\n",
        "print(f\"La altitud del satélite es: {altitud} metros.\")"
      ]
    },
    {
      "cell_type": "markdown",
      "metadata": {
        "id": "bqhEUWZigDxq"
      },
      "source": [
        "#### **(c)** Utiliza tu programa para calcular las altitudes de los satélites que orbitan la Tierra una vez al día (la llamada *órbita \"geosincrónica\"*), una vez cada **90 minutos** y una vez cada **45 minutos**.\n",
        "#### ¿Qué concluyes del último de estos cálculos?"
      ]
    },
    {
      "cell_type": "code",
      "execution_count": null,
      "metadata": {
        "id": "PHV99wyhgDxq"
      },
      "outputs": [],
      "source": [
        "altitud1= altitud_metros(86164)\n",
        "print((f\"La altitud para un satélite que orbita la Tierra una vez al día (órbita geoestacionaria) es: {altitud1} metros\"))\n",
        "#Altitud del satélite que orbita la Tierra durante un día sideral lo cual es una condición necesaria para realizar una órbita geoestacionaria\n",
        "#Una orbita geoestacionaria corresponde  a 29.996164 segundos"
      ]
    },
    {
      "cell_type": "code",
      "execution_count": null,
      "metadata": {
        "id": "aR-AdAgCgDxr"
      },
      "outputs": [],
      "source": [
        "altitud2=altitud_metros(5400) #Altitud del satélite que orbita la Tierra una vez cada 90 minutos\n",
        "print((f\"La altitud para un satélite que orbita la Tierra una vez cada 90 minutos: {altitud2} metros\"))\n"
      ]
    },
    {
      "cell_type": "code",
      "execution_count": null,
      "metadata": {
        "id": "go4jVR3dgDxr"
      },
      "outputs": [],
      "source": [
        "altitud3=altitud_metros(2700) #Altitud del satélite que orbita la Tierra una vez cada 45 minutos\n",
        "print((f\"La altitud para un satélite que orbita la Tierra una cada 45 minutos: {altitud3} metros\"))"
      ]
    },
    {
      "cell_type": "markdown",
      "source": [
        "Podemos observar que el último cálculo resulta negativo, lo cual sugiere que el satélite está dentro de la Tierra. EL tiempo T es demasiado pequeño, por lo que el radio de la Tierra R es mucho más grande que el radio de la orbita r. Esto sugiere que un satélite no puede estar en órbita durante 45 minutos pues es un tiempo muy corto ."
      ],
      "metadata": {
        "id": "rsMGf8brlwvb"
      }
    },
    {
      "cell_type": "markdown",
      "metadata": {
        "id": "V9j2ocRZgDxr"
      },
      "source": [
        "#### **2. Relatividad especial:** Una nave espacial viaja desde la Tierra en línea recta a una velocidad relativista $v$ a otro planeta a $x$ años luz de distancia.\n",
        "\n",
        "#### Escribe un programa que le pida al usuario el valor de $x$ y la velocidad $v$ como una fracción de la velocidad de la luz $c$, y que imprima el tiempo en años que tarda la nave espacial en llegar a su destino\n",
        "\n",
        "#### **(a)** en el marco de reposo de un observador en la Tierra y"
      ]
    },
    {
      "cell_type": "code",
      "execution_count": null,
      "metadata": {
        "id": "cNZ8MXRYgDxs"
      },
      "outputs": [],
      "source": []
    },
    {
      "cell_type": "code",
      "execution_count": null,
      "metadata": {
        "id": "qY_vMo3zgDxs"
      },
      "outputs": [],
      "source": []
    },
    {
      "cell_type": "markdown",
      "metadata": {
        "id": "R-cRXwdVgDxs"
      },
      "source": [
        "#### **(b)** como lo percibiría un pasajero a bordo de la nave."
      ]
    },
    {
      "cell_type": "code",
      "execution_count": null,
      "metadata": {
        "id": "PA44tmgDgDxt"
      },
      "outputs": [],
      "source": []
    },
    {
      "cell_type": "code",
      "execution_count": null,
      "metadata": {
        "id": "y19zONKfgDxt"
      },
      "outputs": [],
      "source": []
    },
    {
      "cell_type": "markdown",
      "metadata": {
        "id": "77jJTlvogDxt"
      },
      "source": [
        "#### Usa tu programa para calcular las respuestas para un planeta a 10 años luz de distancia con $v = 0.99c$"
      ]
    },
    {
      "cell_type": "code",
      "execution_count": null,
      "metadata": {
        "id": "rAyQhW4ygDxt"
      },
      "outputs": [],
      "source": []
    },
    {
      "cell_type": "code",
      "execution_count": null,
      "metadata": {
        "id": "EnDPkgAUgDxt"
      },
      "outputs": [],
      "source": []
    },
    {
      "cell_type": "code",
      "execution_count": null,
      "metadata": {
        "id": "GY41MEAsgDxu"
      },
      "outputs": [],
      "source": []
    },
    {
      "cell_type": "markdown",
      "metadata": {
        "id": "1piJywvjgDxu"
      },
      "source": [
        "#### **3. Órbitas planetarias**: En el espacio, la órbita de un cuerpo alrededor de otro (como un planeta alrededor del Sol), no necesariamente es circular. En general, toma la forma de una elipse, con el cuerpo a veces más cerca y otras más lejos. Si tenemos la distancia $\\ell_1$ de máxima aproximación de un planeta al Sol (su \\textit{perihelio}), y su velocidad lineal $v_1$ en el perihelio, entonces cualquier otra propiedad de la órbita se puede calcular a partir de estas dos cantidades de la siguiente manera:\n",
        "\n",
        "#### **(a)** La segunda ley de Kepler nos dice que la distancia $\\ell_2$ y la velocidad $v_2$ del planeta en su punto más distante, o \\textit{afelio}, satisfacen que $\\ell_2 v_2 = \\ell_1 v_1$.  Al mismo tiempo, la energía total, cinética más la gravitatoria, de un planeta con velocidad $v$ y distancia $r$ del Sol está dada por:\n",
        "\n",
        "<h3 align=\"center\">$E = \\frac{1}{2} m v^2 - G {mM\\over r}$,</h3>\n",
        "       \n",
        "#### donde $m$ es la masa del planeta, $M=1.9891\\times10^{30}\\,$kg es la masa del Sol y $G=6.6738\\times10^{-11}\\,\\mathrm{m^3\\,kg^{-1}\\,s^{-2}}$ es la constante gravitatoria de Newton. Dado que la energía debe conservarse, demuestre que $v_2$ es la raíz más pequeña de la ecuación cuadrática:\n",
        "\n",
        "<h3 align=\"center\">$v_2^2 - {2GM\\over v_1\\ell_1} v_2 - \\biggl[ v_1^2 - {2GM\\over\\ell_1} \\biggr] = 0$.</h3>\n",
        "\n",
        "#### Una vez que tenemos $v_2$ podemos calcular $\\ell_2$  usando la relación $\\ell_2 = \\ell_1 v_1/v_2$.\n"
      ]
    },
    {
      "cell_type": "code",
      "execution_count": null,
      "metadata": {
        "id": "on_DHNrZgDxu"
      },
      "outputs": [],
      "source": []
    },
    {
      "cell_type": "code",
      "execution_count": null,
      "metadata": {
        "id": "pSqC-xNFgDxv"
      },
      "outputs": [],
      "source": []
    },
    {
      "cell_type": "code",
      "execution_count": null,
      "metadata": {
        "id": "9LktLNBmgDxv"
      },
      "outputs": [],
      "source": []
    },
    {
      "cell_type": "markdown",
      "metadata": {
        "id": "LUwgn5bzgDxv"
      },
      "source": [
        "#### **(b)**  Dados los valores de $v_1$, $\\ell_1$, y $\\ell_2$; otros parámetros de la órbita se obtienen mediante fórmulas simples que pueden derivarse de las leyes de Kepler y del hecho de que la órbita es una elipse:\n",
        "\n",
        "<h4 align=\"center\"><b>Semieje mayor</b>: $\\; \\; \\; a = \\frac{1}{2}(\\ell_1+\\ell_2),$</h3>\n",
        "\n",
        "<h4 align=\"center\"><b>Semieje menor</b>: $\\; \\; b = \\sqrt{\\ell_1\\ell_2},$</h3>\n",
        "\n",
        "<h4 align=\"center\"><b>Período orbital</b>: $\\; \\; T = {2\\pi ab\\over\\ell_1 v_1},$</h3>\n",
        "\n",
        "<h4 align=\"center\"><b>Excentricidad orbital</b>: $\\; \\; e = {\\ell_2-\\ell_1\\over\\ell_2+\\ell_1},$</h3>\n",
        "\n",
        "#### Escribe un programa que le pida al usuario que ingrese la distancia al Sol y la velocidad en el perihelio; para que calcule e imprima las cantidades $\\ell_2$, $v_2$, $T$ y $e$.\n"
      ]
    },
    {
      "cell_type": "markdown",
      "source": [
        "Primero comprobamos los parámetros ue ingresaremos al programa con el siguiente código:"
      ],
      "metadata": {
        "id": "qs0fsJIul0tq"
      }
    },
    {
      "cell_type": "markdown",
      "source": [
        "$$\n",
        "\\frac{GM}{l_1}\\leq v_1^2<\\frac{2GM}{l_1}\n",
        "$$"
      ],
      "metadata": {
        "id": "3TZvdV00mLXi"
      }
    },
    {
      "cell_type": "code",
      "execution_count": null,
      "metadata": {
        "id": "R4xLY3BEgDxv"
      },
      "outputs": [],
      "source": [
        "G = 6.6728e-11  #Tenemos ya escritas nuestras variables\n",
        "M = 1.9891e30\n",
        "l1 = float(input(\"l1=\"))\n",
        "v1 = float(input(\"v1=\"))"
      ]
    },
    {
      "cell_type": "code",
      "execution_count": null,
      "metadata": {
        "id": "qzlAaeLigDxw"
      },
      "outputs": [],
      "source": [
        "k = G * M/ l1\n",
        "if k <= v1**2 < 2*k:\n",
        "  print(\"Hago o que tengo que hacer\")\n",
        "elif v1**2 >= 2*k:\n",
        "  print(\"No son datos de una orbita\")\n",
        "else: #Si lo que acabas de pedir no se cumpe, haz otra cosa\n",
        "  print(\"No diste los valores correctos\")"
      ]
    },
    {
      "cell_type": "code",
      "execution_count": null,
      "metadata": {
        "id": "5xVKdi_5gDxw"
      },
      "outputs": [],
      "source": []
    },
    {
      "cell_type": "markdown",
      "metadata": {
        "id": "_yISMNTRgDxw"
      },
      "source": [
        "#### **(c)** Prueba tu programa haciendo que calcule las propiedades de las órbitas de la Tierra (para las cuales $\\ell_1=1.4710\\times10^{11}\\,$m y $v_1=3.0287\\times10^4\\,\\mathrm{m\\,s^{-1}}$)  y del cometa Halley ($\\ell_1=8.7830\\times10^{10}\\,$m y $v_1=5.4529\\times10^4\\,\\mathrm{m\\,s^{-1}}$). Entre otras cosas, deberías encontrar que el período orbital de la Tierra es de un año y el del cometa Halley es de unos 76 años."
      ]
    },
    {
      "cell_type": "code",
      "execution_count": null,
      "metadata": {
        "id": "ze62ttkAgDxx"
      },
      "outputs": [],
      "source": []
    },
    {
      "cell_type": "code",
      "execution_count": null,
      "metadata": {
        "id": "Fj8bpycPgDxx"
      },
      "outputs": [],
      "source": []
    },
    {
      "cell_type": "code",
      "execution_count": null,
      "metadata": {
        "id": "d9smEKXAgDxx"
      },
      "outputs": [],
      "source": []
    },
    {
      "cell_type": "markdown",
      "source": [
        "Ejercicio moral Fibonacci:"
      ],
      "metadata": {
        "id": "ad5L22Jkmd9B"
      }
    },
    {
      "cell_type": "code",
      "source": [
        "def fibonacci(n):\n",
        "    f1 = 1\n",
        "    f2 = 1\n",
        "    for i in range(2,n):\n",
        "        f2,f1 = f1 + f2,f2  #Aquí usamos una asignación directa\n",
        "    return(f2)"
      ],
      "metadata": {
        "id": "ba3CbiGCmbSz"
      },
      "execution_count": null,
      "outputs": []
    },
    {
      "cell_type": "code",
      "source": [
        "n=100\n",
        "fibonacci(n)/fibonacci (n-1) #100/99"
      ],
      "metadata": {
        "id": "uvpwn7-emh98"
      },
      "execution_count": null,
      "outputs": []
    }
  ],
  "metadata": {
    "@webio": {
      "lastCommId": null,
      "lastKernelId": null
    },
    "kernelspec": {
      "display_name": "Python 3 (ipykernel)",
      "language": "python",
      "name": "python3"
    },
    "language_info": {
      "codemirror_mode": {
        "name": "ipython",
        "version": 3
      },
      "file_extension": ".py",
      "mimetype": "text/x-python",
      "name": "python",
      "nbconvert_exporter": "python",
      "pygments_lexer": "ipython3",
      "version": "3.12.3"
    },
    "colab": {
      "provenance": []
    }
  },
  "nbformat": 4,
  "nbformat_minor": 0
}